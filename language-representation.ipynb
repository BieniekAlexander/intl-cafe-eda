{
 "cells": [
  {
   "cell_type": "markdown",
   "id": "b9d4e77f",
   "metadata": {},
   "source": [
    "# Introduction\n",
    "Analysis of representation of languages in NYC"
   ]
  },
  {
   "cell_type": "markdown",
   "id": "845570da",
   "metadata": {},
   "source": [
    "# Setup"
   ]
  },
  {
   "cell_type": "markdown",
   "id": "45b6072a",
   "metadata": {},
   "source": [
    "## Dependencies"
   ]
  },
  {
   "cell_type": "code",
   "execution_count": null,
   "id": "9797e3b9",
   "metadata": {},
   "outputs": [],
   "source": [
    "%pip install pandas==2.3.1 pandasql==0.7.3"
   ]
  },
  {
   "cell_type": "code",
   "execution_count": null,
   "id": "2a037dc7",
   "metadata": {},
   "outputs": [],
   "source": [
    "import pandas as pd\n",
    "import pandasql as ps"
   ]
  },
  {
   "cell_type": "markdown",
   "id": "7666f902",
   "metadata": {},
   "source": [
    "## Data Collection and Processing\n",
    "See README for required data, and where it'll be expected"
   ]
  },
  {
   "cell_type": "code",
   "execution_count": null,
   "id": "2b286ccc",
   "metadata": {},
   "outputs": [],
   "source": [
    "lep = pd.read_csv(\n",
    "    'data/lep.csv',\n",
    "    names=['years', 'borough', 'districtCode', 'district', 'language', 'lepPopulation', 'lepPercent', 'cvalepPopulation', 'cvalepPercent'],\n",
    "    header=0,\n",
    "    quotechar='\"',\n",
    "    delimiter=','\n",
    ")\n",
    "lep.Name = \"lep\"\n",
    "lep.describe(include='all')"
   ]
  },
  {
   "cell_type": "code",
   "execution_count": null,
   "id": "6615f11f",
   "metadata": {},
   "outputs": [],
   "source": [
    "def clean_lang(lang_text):\n",
    "    \"\"\"TODO maybe better function name, this cleans up the text of a language name\"\"\" \n",
    "    return lang_text.split('(', 1)[0].strip().replace(' ', '-')"
   ]
  },
  {
   "cell_type": "code",
   "execution_count": null,
   "id": "cd5ea450",
   "metadata": {},
   "outputs": [],
   "source": [
    "# mapping \"Borough Community District Code\" to CDTA code - just eyeballing the names, the mapping is pretty obvious\n",
    "def get_cdta_code(bcdc_code: str) -> str:\n",
    "    borough_id, district_id = bcdc_code[0], bcdc_code[1:2+1]\n",
    "    borough_code = {\n",
    "        \"1\": \"MN\",\n",
    "        \"2\": \"BX\",\n",
    "        \"3\": \"BK\",\n",
    "        \"4\": \"QN\",\n",
    "        \"5\": \"SI\"\n",
    "    }[borough_id]\n",
    "\n",
    "    return f\"{borough_code}{district_id}\""
   ]
  },
  {
   "cell_type": "code",
   "execution_count": null,
   "id": "c59dfbc7",
   "metadata": {},
   "outputs": [],
   "source": [
    "lep['cdta'] = lep['districtCode'].astype('int').astype('str').apply(get_cdta_code)\n",
    "lep.to_csv(\"data/lep_cdta.csv\")\n",
    "cdta = pd.read_csv(\"data/cdta.csv\")\n",
    "joined = pd.merge(cdta, lep, how='outer', left_on=\"CDTA2020\", right_on=\"cdta\")"
   ]
  },
  {
   "cell_type": "code",
   "execution_count": null,
   "id": "1abdf0f3",
   "metadata": {},
   "outputs": [],
   "source": [
    "!mkdir -p data/languages\n",
    "\n",
    "for lang in joined['language'].dropna().unique():\n",
    "    title = clean_lang(lang)\n",
    "    joined[joined['language'].str.casefold()==lang.lower()].to_csv(f'data/languages/{title}.csv')"
   ]
  },
  {
   "cell_type": "markdown",
   "id": "60ff162a",
   "metadata": {},
   "source": [
    "# Analysis"
   ]
  },
  {
   "cell_type": "code",
   "execution_count": null,
   "id": "a97d1b6e",
   "metadata": {},
   "outputs": [],
   "source": [
    "# Districts by Borough\n",
    "# Note: districts mention multiple neighborhoods\n",
    "districts_by_borough_df = ps.sqldf(f\"\"\"\n",
    "    SELECT\n",
    "        json_group_array(distinct json_object('district', district)) AS districts,\n",
    "        borough\n",
    "    FROM {lep.Name}\n",
    "    GROUP BY borough\n",
    "\"\"\")\n",
    "\n",
    "import json\n",
    "for _, districts, borough in districts_by_borough_df.to_records():\n",
    "    print(\n",
    "        f\"{borough}: \\n{'\\n'.join(\"\\t\"+d['district'] for d in json.loads(districts))}\"\n",
    "    )"
   ]
  },
  {
   "cell_type": "code",
   "execution_count": null,
   "id": "faf54f47",
   "metadata": {},
   "outputs": [],
   "source": [
    "language_counts_df = ps.sqldf(f\"\"\"\n",
    "    SELECT language, SUM(cvalepPopulation) as total\n",
    "    FROM {lep.Name}\n",
    "    GROUP BY language\n",
    "    ORDER BY total DESC\n",
    "\"\"\")"
   ]
  },
  {
   "cell_type": "code",
   "execution_count": null,
   "id": "22693db1",
   "metadata": {},
   "outputs": [],
   "source": [
    "top_languages = language_counts_df['language'][:25].apply(clean_lang).to_list()\n",
    "print(top_languages)"
   ]
  },
  {
   "cell_type": "markdown",
   "id": "c792c461",
   "metadata": {},
   "source": [
    "# QGIS Data Import Snippets\n",
    "Run these in QGIS"
   ]
  },
  {
   "cell_type": "code",
   "execution_count": null,
   "id": "c5fa21ab",
   "metadata": {},
   "outputs": [],
   "source": [
    "# copy files to windows desktop because QGIS lives in Windows on my machine\n",
    "!cp -r data/languages /mnt/c/Users/Bieni/Desktop"
   ]
  },
  {
   "cell_type": "code",
   "execution_count": null,
   "id": "d7b939f1",
   "metadata": {},
   "outputs": [],
   "source": [
    "# NOTE: if running this code in the QGIS terminal, you'll have to copy some things like `top_languages`\n",
    "import os\n",
    "from qgis.core import (\n",
    "    QgsVectorLayer,\n",
    "    QgsProject\n",
    ")\n",
    "\n",
    "CWD = \"C:/Users/Bieni/Desktop/languages\"\n",
    "os.chdir(CWD)\n",
    "\n",
    "# NOTE: I DO NOT understand this naming structure, but it works! https://gis.stackexchange.com/a/147571/320861\n",
    "for fn in os.listdir(CWD):\n",
    "    lang_name = fn.replace('.csv', '')\n",
    "    if lang_name not in top_languages: continue\n",
    "    uri = f\"file:///{CWD}/{fn}?type=csv&delimiter=,&useHeader=yes&wktField=the_geom&crs=epsg:4326\"\n",
    "    vlayer = QgsVectorLayer(uri, lang_name, \"delimitedtext\")\n",
    "    QgsProject.instance().addMapLayer(vlayer)\n",
    "    vlayer.setRenderer(\n",
    "        QgsGraduatedSymbolRenderer.createRenderer(\n",
    "            vlayer,\n",
    "            \"cvalepPopulation\",\n",
    "            5,\n",
    "            QgsGraduatedSymbolRenderer.Mode.EqualInterval,\n",
    "            QgsFillSymbol.createSimple({}),\n",
    "            QgsGradientColorRamp(QColor.fromRgb(255, 255, 255), QColor.fromRgb(100, 255, 255))\n",
    "        )\n",
    "    )"
   ]
  }
 ],
 "metadata": {
  "kernelspec": {
   "display_name": ".venv",
   "language": "python",
   "name": "python3"
  },
  "language_info": {
   "codemirror_mode": {
    "name": "ipython",
    "version": 3
   },
   "file_extension": ".py",
   "mimetype": "text/x-python",
   "name": "python",
   "nbconvert_exporter": "python",
   "pygments_lexer": "ipython3",
   "version": "3.13.5"
  }
 },
 "nbformat": 4,
 "nbformat_minor": 5
}
