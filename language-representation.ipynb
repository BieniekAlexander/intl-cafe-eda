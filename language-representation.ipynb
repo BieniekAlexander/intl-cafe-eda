{
 "cells": [
  {
   "cell_type": "markdown",
   "id": "b9d4e77f",
   "metadata": {},
   "source": [
    "# Introduction\n",
    "Analysis of representation of languages in NYC"
   ]
  },
  {
   "cell_type": "markdown",
   "id": "845570da",
   "metadata": {},
   "source": [
    "# Setup"
   ]
  },
  {
   "cell_type": "markdown",
   "id": "45b6072a",
   "metadata": {},
   "source": [
    "## Dependencies"
   ]
  },
  {
   "cell_type": "code",
   "execution_count": null,
   "id": "9797e3b9",
   "metadata": {},
   "outputs": [
    {
     "name": "stdout",
     "output_type": "stream",
     "text": [
      "Requirement already satisfied: pandas==2.3.1 in ./.venv/lib/python3.13/site-packages (2.3.1)\n",
      "Collecting pandasql\n",
      "  Downloading pandasql-0.7.3.tar.gz (26 kB)\n",
      "  Installing build dependencies ... \u001b[?25ldone\n",
      "\u001b[?25h  Getting requirements to build wheel ... \u001b[?25ldone\n",
      "\u001b[?25h  Preparing metadata (pyproject.toml) ... \u001b[?25ldone\n",
      "\u001b[?25hRequirement already satisfied: numpy>=1.26.0 in ./.venv/lib/python3.13/site-packages (from pandas==2.3.1) (2.3.2)\n",
      "Requirement already satisfied: python-dateutil>=2.8.2 in ./.venv/lib/python3.13/site-packages (from pandas==2.3.1) (2.9.0.post0)\n",
      "Requirement already satisfied: pytz>=2020.1 in ./.venv/lib/python3.13/site-packages (from pandas==2.3.1) (2025.2)\n",
      "Requirement already satisfied: tzdata>=2022.7 in ./.venv/lib/python3.13/site-packages (from pandas==2.3.1) (2025.2)\n",
      "Collecting sqlalchemy (from pandasql)\n",
      "  Using cached sqlalchemy-2.0.41-cp313-cp313-macosx_11_0_arm64.whl.metadata (9.6 kB)\n",
      "Requirement already satisfied: six>=1.5 in ./.venv/lib/python3.13/site-packages (from python-dateutil>=2.8.2->pandas==2.3.1) (1.17.0)\n",
      "Collecting typing-extensions>=4.6.0 (from sqlalchemy->pandasql)\n",
      "  Using cached typing_extensions-4.14.1-py3-none-any.whl.metadata (3.0 kB)\n",
      "Using cached sqlalchemy-2.0.41-cp313-cp313-macosx_11_0_arm64.whl (2.1 MB)\n",
      "Using cached typing_extensions-4.14.1-py3-none-any.whl (43 kB)\n",
      "Building wheels for collected packages: pandasql\n",
      "  Building wheel for pandasql (pyproject.toml) ... \u001b[?25ldone\n",
      "\u001b[?25h  Created wheel for pandasql: filename=pandasql-0.7.3-py3-none-any.whl size=26867 sha256=2e720bebb9c23eca0fb952e97913bb4f1788e27ceba26e253584723d3ef2f322\n",
      "  Stored in directory: /Users/alex.bieniek/Library/Caches/pip/wheels/b4/d0/8c/a6b366870bf041849cd96e03b71641e082f8d6456269b603b7\n",
      "Successfully built pandasql\n",
      "Installing collected packages: typing-extensions, sqlalchemy, pandasql\n",
      "\u001b[2K   \u001b[90m━━━━━━━━━━━━━━━━━━━━━━━━━━━━━━━━━━━━━━━━\u001b[0m \u001b[32m3/3\u001b[0m [pandasql]1/3\u001b[0m [sqlalchemy]\n",
      "\u001b[1A\u001b[2KSuccessfully installed pandasql-0.7.3 sqlalchemy-2.0.41 typing-extensions-4.14.1\n",
      "Note: you may need to restart the kernel to use updated packages.\n"
     ]
    }
   ],
   "source": [
    "%pip install pandas==2.3.1 pandasql==0.7.3"
   ]
  },
  {
   "cell_type": "code",
   "execution_count": 16,
   "id": "2a037dc7",
   "metadata": {},
   "outputs": [],
   "source": [
    "import pandas as pd\n",
    "import pandasql as ps"
   ]
  },
  {
   "cell_type": "markdown",
   "id": "7666f902",
   "metadata": {},
   "source": [
    "## Data Collection\n",
    "Save the following data dumps as described\n",
    "\n",
    "- NYC OpenData\n",
    "    - [LEP Presence by Language](https://data.cityofnewyork.us/City-Government/Population-and-Languages-of-the-Limited-English-Pr/ajin-gkbp/about_data) -> `data/lep.csv`"
   ]
  },
  {
   "cell_type": "code",
   "execution_count": 59,
   "id": "2b286ccc",
   "metadata": {},
   "outputs": [
    {
     "data": {
      "application/vnd.microsoft.datawrangler.viewer.v0+json": {
       "columns": [
        {
         "name": "index",
         "rawType": "object",
         "type": "string"
        },
        {
         "name": "years",
         "rawType": "object",
         "type": "unknown"
        },
        {
         "name": "borough",
         "rawType": "object",
         "type": "unknown"
        },
        {
         "name": "districtCode",
         "rawType": "float64",
         "type": "float"
        },
        {
         "name": "district",
         "rawType": "object",
         "type": "unknown"
        },
        {
         "name": "language",
         "rawType": "object",
         "type": "unknown"
        },
        {
         "name": "lepPopulation",
         "rawType": "float64",
         "type": "float"
        },
        {
         "name": "lepPercent",
         "rawType": "float64",
         "type": "float"
        },
        {
         "name": "cvalepPopulation",
         "rawType": "float64",
         "type": "float"
        },
        {
         "name": "cvalepPercent",
         "rawType": "float64",
         "type": "float"
        }
       ],
       "ref": "a1edabc2-b0ce-432d-ba5d-dcec7df892e5",
       "rows": [
        [
         "count",
         "8024",
         "8024",
         "8024.0",
         "8024",
         "8024",
         "8024.0",
         "8024.0",
         "8024.0",
         "8024.0"
        ],
        [
         "unique",
         "1",
         "5",
         null,
         "59",
         "136",
         null,
         null,
         null,
         null
        ],
        [
         "top",
         "2015-2019",
         "Brooklyn",
         null,
         "Battery Park City, Tribeca",
         "Afrikaans",
         null,
         null,
         null,
         null
        ],
        [
         "freq",
         "8024",
         "2448",
         null,
         "136",
         "59",
         null,
         null,
         null,
         null
        ],
        [
         "mean",
         null,
         null,
         "280.3050847457627",
         null,
         null,
         "221.56916749750746",
         "0.7350697906281157",
         "111.51470588235294",
         "0.7354561316051844"
        ],
        [
         "std",
         null,
         null,
         "117.76553007504133",
         null,
         null,
         "2122.544665340274",
         "5.380982797268934",
         "992.6702402817402",
         "5.438624070016861"
        ],
        [
         "min",
         null,
         null,
         "101.0",
         null,
         null,
         "0.0",
         "0.0",
         "0.0",
         "0.0"
        ],
        [
         "25%",
         null,
         null,
         "203.0",
         null,
         null,
         "0.0",
         "0.0",
         "0.0",
         "0.0"
        ],
        [
         "50%",
         null,
         null,
         "306.0",
         null,
         null,
         "0.0",
         "0.0",
         "0.0",
         "0.0"
        ],
        [
         "75%",
         null,
         null,
         "403.0",
         null,
         null,
         "14.0",
         "0.0",
         "0.0",
         "0.0"
        ],
        [
         "max",
         null,
         null,
         "503.0",
         null,
         null,
         "70064.0",
         "94.1",
         "35881.0",
         "94.3"
        ]
       ],
       "shape": {
        "columns": 9,
        "rows": 11
       }
      },
      "text/html": [
       "<div>\n",
       "<style scoped>\n",
       "    .dataframe tbody tr th:only-of-type {\n",
       "        vertical-align: middle;\n",
       "    }\n",
       "\n",
       "    .dataframe tbody tr th {\n",
       "        vertical-align: top;\n",
       "    }\n",
       "\n",
       "    .dataframe thead th {\n",
       "        text-align: right;\n",
       "    }\n",
       "</style>\n",
       "<table border=\"1\" class=\"dataframe\">\n",
       "  <thead>\n",
       "    <tr style=\"text-align: right;\">\n",
       "      <th></th>\n",
       "      <th>years</th>\n",
       "      <th>borough</th>\n",
       "      <th>districtCode</th>\n",
       "      <th>district</th>\n",
       "      <th>language</th>\n",
       "      <th>lepPopulation</th>\n",
       "      <th>lepPercent</th>\n",
       "      <th>cvalepPopulation</th>\n",
       "      <th>cvalepPercent</th>\n",
       "    </tr>\n",
       "  </thead>\n",
       "  <tbody>\n",
       "    <tr>\n",
       "      <th>count</th>\n",
       "      <td>8024</td>\n",
       "      <td>8024</td>\n",
       "      <td>8024.000000</td>\n",
       "      <td>8024</td>\n",
       "      <td>8024</td>\n",
       "      <td>8024.000000</td>\n",
       "      <td>8024.000000</td>\n",
       "      <td>8024.000000</td>\n",
       "      <td>8024.000000</td>\n",
       "    </tr>\n",
       "    <tr>\n",
       "      <th>unique</th>\n",
       "      <td>1</td>\n",
       "      <td>5</td>\n",
       "      <td>NaN</td>\n",
       "      <td>59</td>\n",
       "      <td>136</td>\n",
       "      <td>NaN</td>\n",
       "      <td>NaN</td>\n",
       "      <td>NaN</td>\n",
       "      <td>NaN</td>\n",
       "    </tr>\n",
       "    <tr>\n",
       "      <th>top</th>\n",
       "      <td>2015-2019</td>\n",
       "      <td>Brooklyn</td>\n",
       "      <td>NaN</td>\n",
       "      <td>Battery Park City, Tribeca</td>\n",
       "      <td>Afrikaans</td>\n",
       "      <td>NaN</td>\n",
       "      <td>NaN</td>\n",
       "      <td>NaN</td>\n",
       "      <td>NaN</td>\n",
       "    </tr>\n",
       "    <tr>\n",
       "      <th>freq</th>\n",
       "      <td>8024</td>\n",
       "      <td>2448</td>\n",
       "      <td>NaN</td>\n",
       "      <td>136</td>\n",
       "      <td>59</td>\n",
       "      <td>NaN</td>\n",
       "      <td>NaN</td>\n",
       "      <td>NaN</td>\n",
       "      <td>NaN</td>\n",
       "    </tr>\n",
       "    <tr>\n",
       "      <th>mean</th>\n",
       "      <td>NaN</td>\n",
       "      <td>NaN</td>\n",
       "      <td>280.305085</td>\n",
       "      <td>NaN</td>\n",
       "      <td>NaN</td>\n",
       "      <td>221.569167</td>\n",
       "      <td>0.735070</td>\n",
       "      <td>111.514706</td>\n",
       "      <td>0.735456</td>\n",
       "    </tr>\n",
       "    <tr>\n",
       "      <th>std</th>\n",
       "      <td>NaN</td>\n",
       "      <td>NaN</td>\n",
       "      <td>117.765530</td>\n",
       "      <td>NaN</td>\n",
       "      <td>NaN</td>\n",
       "      <td>2122.544665</td>\n",
       "      <td>5.380983</td>\n",
       "      <td>992.670240</td>\n",
       "      <td>5.438624</td>\n",
       "    </tr>\n",
       "    <tr>\n",
       "      <th>min</th>\n",
       "      <td>NaN</td>\n",
       "      <td>NaN</td>\n",
       "      <td>101.000000</td>\n",
       "      <td>NaN</td>\n",
       "      <td>NaN</td>\n",
       "      <td>0.000000</td>\n",
       "      <td>0.000000</td>\n",
       "      <td>0.000000</td>\n",
       "      <td>0.000000</td>\n",
       "    </tr>\n",
       "    <tr>\n",
       "      <th>25%</th>\n",
       "      <td>NaN</td>\n",
       "      <td>NaN</td>\n",
       "      <td>203.000000</td>\n",
       "      <td>NaN</td>\n",
       "      <td>NaN</td>\n",
       "      <td>0.000000</td>\n",
       "      <td>0.000000</td>\n",
       "      <td>0.000000</td>\n",
       "      <td>0.000000</td>\n",
       "    </tr>\n",
       "    <tr>\n",
       "      <th>50%</th>\n",
       "      <td>NaN</td>\n",
       "      <td>NaN</td>\n",
       "      <td>306.000000</td>\n",
       "      <td>NaN</td>\n",
       "      <td>NaN</td>\n",
       "      <td>0.000000</td>\n",
       "      <td>0.000000</td>\n",
       "      <td>0.000000</td>\n",
       "      <td>0.000000</td>\n",
       "    </tr>\n",
       "    <tr>\n",
       "      <th>75%</th>\n",
       "      <td>NaN</td>\n",
       "      <td>NaN</td>\n",
       "      <td>403.000000</td>\n",
       "      <td>NaN</td>\n",
       "      <td>NaN</td>\n",
       "      <td>14.000000</td>\n",
       "      <td>0.000000</td>\n",
       "      <td>0.000000</td>\n",
       "      <td>0.000000</td>\n",
       "    </tr>\n",
       "    <tr>\n",
       "      <th>max</th>\n",
       "      <td>NaN</td>\n",
       "      <td>NaN</td>\n",
       "      <td>503.000000</td>\n",
       "      <td>NaN</td>\n",
       "      <td>NaN</td>\n",
       "      <td>70064.000000</td>\n",
       "      <td>94.100000</td>\n",
       "      <td>35881.000000</td>\n",
       "      <td>94.300000</td>\n",
       "    </tr>\n",
       "  </tbody>\n",
       "</table>\n",
       "</div>"
      ],
      "text/plain": [
       "            years   borough  districtCode                    district  \\\n",
       "count        8024      8024   8024.000000                        8024   \n",
       "unique          1         5           NaN                          59   \n",
       "top     2015-2019  Brooklyn           NaN  Battery Park City, Tribeca   \n",
       "freq         8024      2448           NaN                         136   \n",
       "mean          NaN       NaN    280.305085                         NaN   \n",
       "std           NaN       NaN    117.765530                         NaN   \n",
       "min           NaN       NaN    101.000000                         NaN   \n",
       "25%           NaN       NaN    203.000000                         NaN   \n",
       "50%           NaN       NaN    306.000000                         NaN   \n",
       "75%           NaN       NaN    403.000000                         NaN   \n",
       "max           NaN       NaN    503.000000                         NaN   \n",
       "\n",
       "         language  lepPopulation   lepPercent  cvalepPopulation  cvalepPercent  \n",
       "count        8024    8024.000000  8024.000000       8024.000000    8024.000000  \n",
       "unique        136            NaN          NaN               NaN            NaN  \n",
       "top     Afrikaans            NaN          NaN               NaN            NaN  \n",
       "freq           59            NaN          NaN               NaN            NaN  \n",
       "mean          NaN     221.569167     0.735070        111.514706       0.735456  \n",
       "std           NaN    2122.544665     5.380983        992.670240       5.438624  \n",
       "min           NaN       0.000000     0.000000          0.000000       0.000000  \n",
       "25%           NaN       0.000000     0.000000          0.000000       0.000000  \n",
       "50%           NaN       0.000000     0.000000          0.000000       0.000000  \n",
       "75%           NaN      14.000000     0.000000          0.000000       0.000000  \n",
       "max           NaN   70064.000000    94.100000      35881.000000      94.300000  "
      ]
     },
     "execution_count": 59,
     "metadata": {},
     "output_type": "execute_result"
    }
   ],
   "source": [
    "lep = pd.read_csv(\n",
    "    'data/lep.csv',\n",
    "    names=['years', 'borough', 'districtCode', 'district', 'language', 'lepPopulation', 'lepPercent', 'cvalepPopulation', 'cvalepPercent'],\n",
    "    header=0,\n",
    "    quotechar='\"',\n",
    "    delimiter=','\n",
    ")\n",
    "lep.Name = \"lep\"\n",
    "lep.describe(include='all')"
   ]
  },
  {
   "cell_type": "markdown",
   "id": "60ff162a",
   "metadata": {},
   "source": [
    "# Analysis"
   ]
  },
  {
   "cell_type": "code",
   "execution_count": null,
   "id": "a97d1b6e",
   "metadata": {},
   "outputs": [
    {
     "name": "stdout",
     "output_type": "stream",
     "text": [
      "Bronx: \n",
      "\tMelrose, Mott Haven, Port Morris\n",
      "\tHunts Point, Longwood\n",
      "\tMorrisania, Crotona Park East\n",
      "\tHighbridge, Concourse Village\n",
      "\tUniversity Hts., Fordham, Mt. Hope\n",
      "\tEast Tremont, Belmont\n",
      "\tBedford Park, Norwood, Fordham\n",
      "\tRiverdale, Kingsbridge, Marble Hill\n",
      "\tSoundview, Parkchester\n",
      "\tThrogs Nk., Co-op City, Pelham Bay\n",
      "\tPelham Pkwy, Morris Park, Laconia\n",
      "\tWakefield, Williamsbridge\n",
      "Brooklyn: \n",
      "\tWilliamsburg, Greenpoint\n",
      "\tBrooklyn Heights, Fort Greene\n",
      "\tBedford Stuyvesant\n",
      "\tBushwick\n",
      "\tEast New York, Starrett City\n",
      "\tPark Slope, Carroll Gardens\n",
      "\tSunset Park, Windsor Terrace\n",
      "\tCrown Heights North\n",
      "\tCrown Heights South, Wingate\n",
      "\tBay Ridge, Dyker Heights\n",
      "\tBensonhurst, Bath Beach\n",
      "\tBorough Park, Ocean Parkway\n",
      "\tConey Island, Brighton Beach\n",
      "\tFlatbush, Midwood\n",
      "\tSheepshead Bay, Gerritsen Beach\n",
      "\tBrownsville, Ocean Hill\n",
      "\tEast Flatbush, Rugby, Farragut\n",
      "\tCanarsie, Flatlands\n",
      "Manhattan: \n",
      "\tBattery Park City, Tribeca\n",
      "\tGreenwich Village, Soho\n",
      "\tLower East Side, Chinatown\n",
      "\tChelsea, Clinton\n",
      "\tMidtown Business District\n",
      "\tStuyvesant Town, Turtle Bay\n",
      "\tWest Side, Upper West Side\n",
      "\tUpper East Side\n",
      "\tManhattanville, Hamilton Heights\n",
      "\tCentral Harlem\n",
      "\tEast Harlem\n",
      "\tWashington Heights, Inwood\n",
      "Queens: \n",
      "\tAstoria, Long Island City\n",
      "\tSunnyside, Woodside\n",
      "\tJackson Heights, North Corona\n",
      "\tElmhurst, South Corona\n",
      "\tRidgewood, Glendale, Maspeth\n",
      "\tForest Hills, Rego Park\n",
      "\tFlushing, Bay Terrace\n",
      "\tFresh Meadows, Briarwood\n",
      "\tWoodhaven, Richmond Hill\n",
      "\tOzone Park, Howard Beach\n",
      "\tBayside, Douglaston, Little Neck\n",
      "\tQueens Village, Rosedale\n",
      "\tJamaica, St. Albans, Hollis\n",
      "\tThe Rockaways, Broad Channel\n",
      "Staten Island: \n",
      "\tStapleton, Port Richmond\n",
      "\tNew Springville, South Beach\n",
      "\tTottenville, Woodrow, Great Kills\n"
     ]
    }
   ],
   "source": [
    "# Districts by Borough\n",
    "# Note: districts mention multiple neighborhoods\n",
    "districts_by_borough_df = ps.sqldf(f\"\"\"\n",
    "    SELECT\n",
    "        json_group_array(distinct json_object('district', district)) AS districts,\n",
    "        borough\n",
    "    FROM {lep.Name}\n",
    "    GROUP BY borough\n",
    "\"\"\")\n",
    "\n",
    "import json\n",
    "for _, districts, borough in districts_by_borough_df.to_records():\n",
    "    print(\n",
    "        f\"{borough}: \\n{'\\n'.join(\"\\t\"+d['district'] for d in json.loads(districts))}\"\n",
    "    )"
   ]
  },
  {
   "cell_type": "code",
   "execution_count": 87,
   "id": "faf54f47",
   "metadata": {},
   "outputs": [
    {
     "data": {
      "application/vnd.microsoft.datawrangler.viewer.v0+json": {
       "columns": [
        {
         "name": "index",
         "rawType": "int64",
         "type": "integer"
        },
        {
         "name": "language",
         "rawType": "object",
         "type": "string"
        },
        {
         "name": "SUM(cvalepPopulation)",
         "rawType": "int64",
         "type": "integer"
        }
       ],
       "ref": "5dd6549a-a470-485f-9532-0e05307ebd11",
       "rows": [
        [
         "0",
         "Afrikaans",
         "0"
        ],
        [
         "1",
         "Akan (incl. Twi)",
         "2661"
        ],
        [
         "2",
         "Albanian",
         "7048"
        ],
        [
         "3",
         "Aleut languages",
         "21"
        ],
        [
         "4",
         "Amharic",
         "516"
        ],
        [
         "5",
         "Apache languages",
         "0"
        ],
        [
         "6",
         "Arabic",
         "14823"
        ],
        [
         "7",
         "Armenian",
         "1092"
        ],
        [
         "8",
         "Assyrian Neo-Aramaic",
         "12"
        ],
        [
         "9",
         "Bengali",
         "29570"
        ],
        [
         "10",
         "Bosnian",
         "1146"
        ],
        [
         "11",
         "Bulgarian",
         "519"
        ],
        [
         "12",
         "Burmese",
         "2223"
        ],
        [
         "13",
         "Cajun French",
         "0"
        ],
        [
         "14",
         "Cebuano",
         "312"
        ],
        [
         "15",
         "Chaldean Neo-Aramaic",
         "0"
        ],
        [
         "16",
         "Chamorro",
         "0"
        ],
        [
         "17",
         "Cherokee",
         "0"
        ],
        [
         "18",
         "Chin languages",
         "141"
        ],
        [
         "19",
         "Chinese (incl. Mandarin, Cantonese)",
         "165932"
        ],
        [
         "20",
         "Chuukese",
         "0"
        ],
        [
         "21",
         "Croatian",
         "1440"
        ],
        [
         "22",
         "Czech",
         "277"
        ],
        [
         "23",
         "Dakota languages",
         "0"
        ],
        [
         "24",
         "Danish",
         "33"
        ],
        [
         "25",
         "Dari",
         "114"
        ],
        [
         "26",
         "Dutch",
         "431"
        ],
        [
         "27",
         "Edoid languages",
         "211"
        ],
        [
         "28",
         "Farsi",
         "1306"
        ],
        [
         "29",
         "Filipino",
         "2758"
        ],
        [
         "30",
         "Finnish",
         "0"
        ],
        [
         "31",
         "French",
         "10087"
        ],
        [
         "32",
         "Fulah",
         "1055"
        ],
        [
         "33",
         "Ga",
         "104"
        ],
        [
         "34",
         "Ganda",
         "0"
        ],
        [
         "35",
         "Gbe languages",
         "91"
        ],
        [
         "36",
         "Georgian",
         "0"
        ],
        [
         "37",
         "German",
         "1209"
        ],
        [
         "38",
         "Greek",
         "9340"
        ],
        [
         "39",
         "Gujarati",
         "1846"
        ],
        [
         "40",
         "Haitian",
         "22938"
        ],
        [
         "41",
         "Hausa",
         "0"
        ],
        [
         "42",
         "Hawaiian",
         "16"
        ],
        [
         "43",
         "Hebrew",
         "4801"
        ],
        [
         "44",
         "Hindi",
         "4507"
        ],
        [
         "45",
         "Hmong",
         "0"
        ],
        [
         "46",
         "Hungarian",
         "1289"
        ],
        [
         "47",
         "Igbo",
         "812"
        ],
        [
         "48",
         "Ilocano",
         "126"
        ],
        [
         "49",
         "India N.E.C.",
         "514"
        ]
       ],
       "shape": {
        "columns": 2,
        "rows": 136
       }
      },
      "text/html": [
       "<div>\n",
       "<style scoped>\n",
       "    .dataframe tbody tr th:only-of-type {\n",
       "        vertical-align: middle;\n",
       "    }\n",
       "\n",
       "    .dataframe tbody tr th {\n",
       "        vertical-align: top;\n",
       "    }\n",
       "\n",
       "    .dataframe thead th {\n",
       "        text-align: right;\n",
       "    }\n",
       "</style>\n",
       "<table border=\"1\" class=\"dataframe\">\n",
       "  <thead>\n",
       "    <tr style=\"text-align: right;\">\n",
       "      <th></th>\n",
       "      <th>language</th>\n",
       "      <th>SUM(cvalepPopulation)</th>\n",
       "    </tr>\n",
       "  </thead>\n",
       "  <tbody>\n",
       "    <tr>\n",
       "      <th>0</th>\n",
       "      <td>Afrikaans</td>\n",
       "      <td>0</td>\n",
       "    </tr>\n",
       "    <tr>\n",
       "      <th>1</th>\n",
       "      <td>Akan (incl. Twi)</td>\n",
       "      <td>2661</td>\n",
       "    </tr>\n",
       "    <tr>\n",
       "      <th>2</th>\n",
       "      <td>Albanian</td>\n",
       "      <td>7048</td>\n",
       "    </tr>\n",
       "    <tr>\n",
       "      <th>3</th>\n",
       "      <td>Aleut languages</td>\n",
       "      <td>21</td>\n",
       "    </tr>\n",
       "    <tr>\n",
       "      <th>4</th>\n",
       "      <td>Amharic</td>\n",
       "      <td>516</td>\n",
       "    </tr>\n",
       "    <tr>\n",
       "      <th>...</th>\n",
       "      <td>...</td>\n",
       "      <td>...</td>\n",
       "    </tr>\n",
       "    <tr>\n",
       "      <th>131</th>\n",
       "      <td>Vietnamese</td>\n",
       "      <td>4553</td>\n",
       "    </tr>\n",
       "    <tr>\n",
       "      <th>132</th>\n",
       "      <td>Wolof</td>\n",
       "      <td>183</td>\n",
       "    </tr>\n",
       "    <tr>\n",
       "      <th>133</th>\n",
       "      <td>Yiddish</td>\n",
       "      <td>13360</td>\n",
       "    </tr>\n",
       "    <tr>\n",
       "      <th>134</th>\n",
       "      <td>Yoruba</td>\n",
       "      <td>1060</td>\n",
       "    </tr>\n",
       "    <tr>\n",
       "      <th>135</th>\n",
       "      <td>Zuni (2016 or earlier)</td>\n",
       "      <td>0</td>\n",
       "    </tr>\n",
       "  </tbody>\n",
       "</table>\n",
       "<p>136 rows × 2 columns</p>\n",
       "</div>"
      ],
      "text/plain": [
       "                   language  SUM(cvalepPopulation)\n",
       "0                 Afrikaans                      0\n",
       "1          Akan (incl. Twi)                   2661\n",
       "2                  Albanian                   7048\n",
       "3           Aleut languages                     21\n",
       "4                   Amharic                    516\n",
       "..                      ...                    ...\n",
       "131              Vietnamese                   4553\n",
       "132                   Wolof                    183\n",
       "133                 Yiddish                  13360\n",
       "134                  Yoruba                   1060\n",
       "135  Zuni (2016 or earlier)                      0\n",
       "\n",
       "[136 rows x 2 columns]"
      ]
     },
     "execution_count": 87,
     "metadata": {},
     "output_type": "execute_result"
    }
   ],
   "source": [
    "ps.sqldf(f\"\"\"\n",
    "    SELECT language, SUM(cvalepPopulation)\n",
    "    FROM {lep.Name}\n",
    "    GROUP BY language\n",
    "\"\"\")"
   ]
  }
 ],
 "metadata": {
  "kernelspec": {
   "display_name": ".venv",
   "language": "python",
   "name": "python3"
  },
  "language_info": {
   "codemirror_mode": {
    "name": "ipython",
    "version": 3
   },
   "file_extension": ".py",
   "mimetype": "text/x-python",
   "name": "python",
   "nbconvert_exporter": "python",
   "pygments_lexer": "ipython3",
   "version": "3.13.5"
  }
 },
 "nbformat": 4,
 "nbformat_minor": 5
}
